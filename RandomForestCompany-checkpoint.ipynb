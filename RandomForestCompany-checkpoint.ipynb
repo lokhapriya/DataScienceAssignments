{
 "cells": [
  {
   "cell_type": "code",
   "execution_count": 1,
   "metadata": {},
   "outputs": [
    {
     "name": "stdout",
     "output_type": "stream",
     "text": [
      "RandomForest Classifier performance based on OOB_Score is:  0.8\n",
      "Predictions                   Greater than or Equal to 7.5  Lesser than 7.5\n",
      "Sales                                                                      \n",
      "Greater than or Equal to 7.5                           199                0\n",
      "Lesser than 7.5                                          1              200\n"
     ]
    },
    {
     "data": {
      "image/png": "[encoded data removed]",
      "text/plain": [
       "<Figure size 432x288 with 1 Axes>"
      ]
     },
     "metadata": {
      "needs_background": "light"
     },
     "output_type": "display_data"
    },
    {
     "name": "stdout",
     "output_type": "stream",
     "text": [
      "Model Accuracy achieved by RFC Algorithm(%):  99.75\n"
     ]
    }
   ],
   "source": [
    "import pandas as pd\n",
    "from sklearn import preprocessing\n",
    "import numpy as np\n",
    "import matplotlib.pyplot as plt\n",
    "from sklearn.ensemble import RandomForestClassifier\n",
    "\n",
    "car_seats = pd.read_csv(\"E:\\\\downloads\\\\Company_Data.csv\",header=0)\n",
    "\n",
    "sales_category=[]\n",
    "\n",
    "for value in car_seats['Sales']:\n",
    "    if (value >= 7.5) :\n",
    "        sales_category.append('Greater than or Equal to 7.5')\n",
    "    else:\n",
    "        sales_category.append('Lesser than 7.5')\n",
    "\n",
    "modified_car_seats=car_seats.drop(['Sales'],axis=1)\n",
    "modified_car_seats['Sales']=pd.Series(sales_category)\n",
    "\n",
    "encoder=preprocessing.LabelEncoder()\n",
    "modified_car_seats['ShelveLoc']=encoder.fit_transform(modified_car_seats['ShelveLoc'])\n",
    "modified_car_seats['Education']=encoder.fit_transform(modified_car_seats['Education'])\n",
    "modified_car_seats['Urban']=encoder.fit_transform(modified_car_seats['Urban'])\n",
    "modified_car_seats['US']=encoder.fit_transform(modified_car_seats['US'])\n",
    "\n",
    "features=modified_car_seats.columns[0:10]\n",
    "output=modified_car_seats.columns[10]\n",
    "\n",
    "\n",
    "#Random Forest Model Building and Predictions on the Entire Dataset as OOB_Score set to True which\n",
    "#accounts for predicting missed 1/3th of the data samples in the Bootstrap sample for every Tree which is\n",
    "#Similar to making each Tree to predict for unseen samples apart from its respective Bootstrap Sample\n",
    "#OOB_Score tells the performance of the Classifier\n",
    "model_rf = RandomForestClassifier(n_jobs=3,oob_score=True,n_estimators=61,criterion=\"gini\",bootstrap=True,\n",
    "                                  max_depth=13, min_samples_split=4,random_state=8)\n",
    "\n",
    "model_rf.fit(modified_car_seats[features],modified_car_seats[output])\n",
    "modified_car_seats['Predictions'] = model_rf.predict(modified_car_seats[features])\n",
    "print(\"RandomForest Classifier performance based on OOB_Score is: \",model_rf.oob_score_)\n",
    "\n",
    "print(pd.crosstab(modified_car_seats['Sales'],modified_car_seats['Predictions']))\n",
    "\n",
    "\n",
    "#Plot to analyse variation between the Predicted values and the Actual Values on the Dataset\n",
    "pd.crosstab(modified_car_seats['Sales'],modified_car_seats['Predictions']).plot(kind='bar',color=['red','blue'], grid=True)\n",
    "plt.legend(['Predicted as >= 7.5','Predicted as < 7.5'])\n",
    "plt.show()\n",
    "\n",
    "\n",
    "# RF Model Accuracy\n",
    "print(\"Model Accuracy achieved by RFC Algorithm(%): \",np.mean(modified_car_seats.Sales == modified_car_seats.Predictions)*100)"
   ]
  },
  {
   "cell_type": "code",
   "execution_count": null,
   "metadata": {},
   "outputs": [],
   "source": []
  }
 ],
 "metadata": {
  "kernelspec": {
   "display_name": "Python 3",
   "language": "python",
   "name": "python3"
  },
  "language_info": {
   "codemirror_mode": {
    "name": "ipython",
    "version": 3
   },
   "file_extension": ".py",
   "mimetype": "text/x-python",
   "name": "python",
   "nbconvert_exporter": "python",
   "pygments_lexer": "ipython3",
   "version": "3.7.6"
  }
 },
 "nbformat": 4,
 "nbformat_minor": 4
}
