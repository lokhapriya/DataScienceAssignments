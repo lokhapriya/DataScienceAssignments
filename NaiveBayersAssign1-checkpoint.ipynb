{
 "cells": [
  {
   "cell_type": "code",
   "execution_count": 2,
   "metadata": {},
   "outputs": [
    {
     "name": "stdout",
     "output_type": "stream",
     "text": [
      "Gaussian Naive Bayes model accuracy(in %): 79.46879150066401\n",
      "MultiNomial Naive Bayes model accuracy(in %): 77.49667994687915\n"
     ]
    }
   ],
   "source": [
    "import pandas as pd\n",
    "import numpy as np\n",
    "from sklearn.naive_bayes import GaussianNB\n",
    "from sklearn.naive_bayes import MultinomialNB\n",
    "from sklearn.metrics import confusion_matrix\n",
    "from sklearn import preprocessing\n",
    "from sklearn import metrics\n",
    "\n",
    "df_train = pd.read_csv(\"E:\\\\Downloads\\\\SalaryData_Train.csv\",header=0)\n",
    "df_test = pd.read_csv(\"E:\\\\Downloads\\\\SalaryData_Test.csv\",header=0)\n",
    "string_columns=[\"workclass\",\"education\",\"maritalstatus\",\"occupation\",\"relationship\",\"race\",\"sex\",\"native\"]\n",
    "\n",
    "categorical_data = preprocessing.LabelEncoder()\n",
    "for i in string_columns:\n",
    "    df_train[i] = categorical_data.fit_transform(df_train[i])\n",
    "    df_test[i] = categorical_data.fit_transform(df_test[i])\n",
    "\n",
    "column_names = df_train.columns\n",
    "train_X = df_train[column_names[0:13]]\n",
    "train_y = df_train[column_names[13]]\n",
    "test_X = df_test[column_names[0:13]]\n",
    "test_y = df_test[column_names[13]]\n",
    "\n",
    "#Gaussian Naive Bayes' Classifier used for Features which are in the form of continuous datatype\n",
    "gaussian_nbc = GaussianNB()\n",
    "#Multinomial Naive Bayes' Classifier used for Features which in the form of continuous datatype but mainly used for Document Classification\n",
    "multinomial_nbc = MultinomialNB()\n",
    "\n",
    "pred_gaussian = gaussian_nbc.fit(train_X,train_y).predict(test_X)\n",
    "confusion_matrix(test_y,pred_gaussian)\n",
    "print (\"Gaussian Naive Bayes model accuracy(in %):\",metrics.accuracy_score(test_y, pred_gaussian)*100)\n",
    "\n",
    "pred_multinomial = multinomial_nbc.fit(train_X,train_y).predict(test_X)\n",
    "confusion_matrix(test_y,pred_multinomial)\n",
    "print(\"MultiNomial Naive Bayes model accuracy(in %):\",metrics.accuracy_score(test_y, pred_multinomial)*100)"
   ]
  },
  {
   "cell_type": "code",
   "execution_count": null,
   "metadata": {},
   "outputs": [],
   "source": []
  }
 ],
 "metadata": {
  "kernelspec": {
   "display_name": "Python 3",
   "language": "python",
   "name": "python3"
  },
  "language_info": {
   "codemirror_mode": {
    "name": "ipython",
    "version": 3
   },
   "file_extension": ".py",
   "mimetype": "text/x-python",
   "name": "python",
   "nbconvert_exporter": "python",
   "pygments_lexer": "ipython3",
   "version": "3.7.6"
  }
 },
 "nbformat": 4,
 "nbformat_minor": 4
}
