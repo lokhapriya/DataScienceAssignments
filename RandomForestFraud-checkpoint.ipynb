{
 "cells": [
  {
   "cell_type": "code",
   "execution_count": 1,
   "metadata": {},
   "outputs": [
    {
     "name": "stdout",
     "output_type": "stream",
     "text": [
      "RandomForest Classifier Performance based on OOB_Score is:  0.7705882352941177\n",
      "col_0           Good  Risky\n",
      "Taxable.Income             \n",
      "Good             403      0\n",
      "Risky             57     50\n"
     ]
    },
    {
     "data": {
      "image/png": "[encoded data removed]",
      "text/plain": [
       "<Figure size 432x288 with 1 Axes>"
      ]
     },
     "metadata": {
      "needs_background": "light"
     },
     "output_type": "display_data"
    },
    {
     "name": "stdout",
     "output_type": "stream",
     "text": [
      "col_0           Good  Risky\n",
      "Taxable.Income             \n",
      "Good              70      3\n",
      "Risky             17      0\n",
      "Train Accuracy achieved by RFC Algorithm(%):  88.8235294117647\n",
      "Test Accuracy achieved by RFC Algorithm(%):  77.77777777777779\n"
     ]
    }
   ],
   "source": [
    "import pandas as pd\n",
    "from sklearn.model_selection import train_test_split\n",
    "from sklearn import preprocessing\n",
    "import numpy as np\n",
    "from sklearn.ensemble import RandomForestClassifier\n",
    "import matplotlib.pyplot as plt\n",
    "\n",
    "customer_type = pd.read_csv(\"E:\\\\Downloads\\\\Fraud_check.csv\",header=0)\n",
    "customer_category=[]\n",
    "\n",
    "for value in customer_type['Taxable.Income']:\n",
    "    if (value <= 30000) :\n",
    "        customer_category.append('Risky')\n",
    "    else:\n",
    "        customer_category.append('Good')\n",
    "\n",
    "modified_customer_type=customer_type.drop(['Taxable.Income'],axis=1)\n",
    "modified_customer_type['Taxable.Income']=pd.Series(customer_category)\n",
    "\n",
    "encoder=preprocessing.LabelEncoder()\n",
    "modified_customer_type['Undergrad']=encoder.fit_transform(modified_customer_type['Undergrad'])\n",
    "modified_customer_type['Marital.Status']=encoder.fit_transform(modified_customer_type['Marital.Status'])\n",
    "modified_customer_type['Urban']=encoder.fit_transform(modified_customer_type['Urban'])\n",
    "\n",
    "features=modified_customer_type.columns[0:5]\n",
    "output=modified_customer_type.columns[5]\n",
    "\n",
    "\n",
    "train_data,test_data = train_test_split(modified_customer_type,test_size = 0.15,random_state=8)\n",
    "\n",
    "#Random Forest Model Building and Predictions on the Entire Dataset as OOB_Score set to True which\n",
    "#accounts for predicting missed 1/3th of the data samples in the Bootstrap sample for every Tree which is\n",
    "#Similar to making each Tree to predict for unseen samples apart from its respective Bootstrap Sample\n",
    "#OOB_Score tells the performance of the Classifier\n",
    "model_rf = RandomForestClassifier(n_jobs=3,oob_score=True,n_estimators=60,criterion=\"entropy\",bootstrap=True,\n",
    "                                  max_depth=12, min_samples_split=6,random_state=8)\n",
    "\n",
    "model_rf.fit(train_data[features],train_data[output])\n",
    "train_preds = model_rf.predict(train_data[features])\n",
    "test_preds = model_rf.predict(test_data[features])\n",
    "print(\"RandomForest Classifier Performance based on OOB_Score is: \",model_rf.oob_score_)\n",
    "\n",
    "print(pd.crosstab(train_data[output],train_preds))\n",
    "\n",
    "\n",
    "#Plot to analyse variation between the Predicted values and the Actual Values on Test Dataset\n",
    "pd.crosstab(test_data[output],test_preds).plot(kind='bar',color=['red','blue'], grid=True)\n",
    "plt.legend(['Predicted as Good','Predicted as Risky'])\n",
    "plt.show()\n",
    "\n",
    "print(pd.crosstab(test_data[output],test_preds))\n",
    "\n",
    "\n",
    "#Due to Imbalanced Dataset our model couldn't recognize the pattern to Classify Risky Classlabels Correctly\n",
    "#as there were few observations pertaining to 'Risky' Class which is causing the Difference between Train & Test Accuracy\n",
    "\n",
    "# Train Accuracy\n",
    "print(\"Train Accuracy achieved by RFC Algorithm(%): \",np.mean(train_data[output] == train_preds)*100)\n",
    "\n",
    "# Test Accuracy\n",
    "print(\"Test Accuracy achieved by RFC Algorithm(%): \",np.mean(test_preds==test_data[output])*100)"
   ]
  },
  {
   "cell_type": "code",
   "execution_count": null,
   "metadata": {},
   "outputs": [],
   "source": []
  }
 ],
 "metadata": {
  "kernelspec": {
   "display_name": "Python 3",
   "language": "python",
   "name": "python3"
  },
  "language_info": {
   "codemirror_mode": {
    "name": "ipython",
    "version": 3
   },
   "file_extension": ".py",
   "mimetype": "text/x-python",
   "name": "python",
   "nbconvert_exporter": "python",
   "pygments_lexer": "ipython3",
   "version": "3.7.6"
  }
 },
 "nbformat": 4,
 "nbformat_minor": 4
}
